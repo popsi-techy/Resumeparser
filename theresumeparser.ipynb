{
  "nbformat": 4,
  "nbformat_minor": 0,
  "metadata": {
    "colab": {
      "provenance": [],
      "toc_visible": true,
      "authorship_tag": "ABX9TyMVHJYej7kzgMtZE9E0cFKq",
      "include_colab_link": true
    },
    "kernelspec": {
      "name": "python3",
      "display_name": "Python 3"
    },
    "language_info": {
      "name": "python"
    }
  },
  "cells": [
    {
      "cell_type": "markdown",
      "metadata": {
        "id": "view-in-github",
        "colab_type": "text"
      },
      "source": [
        "<a href=\"https://colab.research.google.com/github/popsi-techy/Resumeparser/blob/main/theresumeparser.ipynb\" target=\"_parent\"><img src=\"https://colab.research.google.com/assets/colab-badge.svg\" alt=\"Open In Colab\"/></a>"
      ]
    },
    {
      "cell_type": "code",
      "execution_count": 2,
      "metadata": {
        "id": "fJyY19GF2cA-"
      },
      "outputs": [],
      "source": [
        "!pip install spacy\n"
      ]
    },
    {
      "cell_type": "code",
      "source": [
        "!python -m spacy download en_core_web_sm"
      ],
      "metadata": {
        "colab": {
          "base_uri": "https://localhost:8080/"
        },
        "id": "tTdr1NW83X9j",
        "outputId": "d700cf06-f516-4d8e-8e7a-684dab14d7d7"
      },
      "execution_count": 3,
      "outputs": [
        {
          "output_type": "stream",
          "name": "stdout",
          "text": [
            "\u001b[38;5;2m✔ Download and installation successful\u001b[0m\n",
            "You can now load the package via spacy.load('en_core_web_sm')\n"
          ]
        }
      ]
    },
    {
      "cell_type": "code",
      "source": [
        "!pip install pdfminer.six"
      ],
      "metadata": {
        "id": "w6iMEpA13yEH"
      },
      "execution_count": null,
      "outputs": []
    },
    {
      "cell_type": "code",
      "source": [
        "import re\n",
        "from pdfminer.high_level import extract_text\n",
        "import spacy\n",
        "from spacy.matcher import Matcher\n",
        "\n",
        "def extract_text_from_pdf(pdf_path):\n",
        "    return extract_text(pdf_path)\n",
        "\n",
        "def extract_contact_number_from_resume(text):\n",
        "    contact_number = None\n",
        "\n",
        "    # Use regex pattern to find a potential contact number\n",
        "    pattern = r\"\\b(?:\\+?\\d{1,3}[-.\\s]?)?\\(?\\d{3}\\)?[-.\\s]?\\d{3}[-.\\s]?\\d{4}\\b\"\n",
        "    match = re.search(pattern, text)\n",
        "    if match:\n",
        "        contact_number = match.group()\n",
        "\n",
        "    return contact_number\n",
        "\n",
        "def extract_email_from_resume(text):\n",
        "    email = None\n",
        "\n",
        "    # Use regex pattern to find a potential email address\n",
        "    pattern = r\"\\b[A-Za-z0-9._%+-]+@[A-Za-z0-9.-]+\\.[A-Za-z]{2,}\\b\"\n",
        "    match = re.search(pattern, text)\n",
        "    if match:\n",
        "        email = match.group()\n",
        "\n",
        "    return email\n",
        "\n",
        "def extract_skills_from_resume(text, skills_list):\n",
        "    skills = []\n",
        "\n",
        "    for skill in skills_list:\n",
        "        pattern = r\"\\b{}\\b\".format(re.escape(skill))\n",
        "        match = re.search(pattern, text, re.IGNORECASE)\n",
        "        if match:\n",
        "            skills.append(skill)\n",
        "\n",
        "    return skills\n",
        "\n",
        "def extract_education_from_resume(text):\n",
        "    education = []\n",
        "\n",
        "    # Use regex pattern to find education information\n",
        "    pattern = r\"(?i)(?:Bachelor|\\bB\\.\\w+|\\bM\\.\\w+|\\bPh\\.D\\.\\w+|\\bBachelor(?:'s)?|\\bMaster(?:'s)?|\\bPh\\.D)\\s(?:\\w+\\s)*\\w+\"\n",
        "    matches = re.findall(pattern, text)\n",
        "    for match in matches:\n",
        "        education.append(match.strip())\n",
        "\n",
        "    return education\n",
        "\n",
        "def extract_name(resume_text):\n",
        "    nlp = spacy.load('en_core_web_sm')\n",
        "    matcher = Matcher(nlp.vocab)\n",
        "\n",
        "    # Define name patterns\n",
        "    patterns = [\n",
        "        [{'POS': 'PROPN'}, {'POS': 'PROPN'}],  # First name and Last name\n",
        "        [{'POS': 'PROPN'}, {'POS': 'PROPN'}, {'POS': 'PROPN'}],  # First name, Middle name, and Last name\n",
        "        [{'POS': 'PROPN'}, {'POS': 'PROPN'}, {'POS': 'PROPN'}, {'POS': 'PROPN'}]  # First name, Middle name, Middle name, and Last name\n",
        "        # Add more patterns as needed\n",
        "    ]\n",
        "\n",
        "    for pattern in patterns:\n",
        "        matcher.add('NAME', patterns=[pattern])\n",
        "\n",
        "    doc = nlp(resume_text)\n",
        "    matches = matcher(doc)\n",
        "\n",
        "    for match_id, start, end in matches:\n",
        "        span = doc[start:end]\n",
        "        return span.text\n",
        "\n",
        "    return None\n",
        "\n",
        "if __name__ == '__main__':\n",
        "    resume_paths = [r\"/content/Aman resume KPIT.pdf\"]\n",
        "\n",
        "    for resume_path in resume_paths:\n",
        "        text = extract_text_from_pdf(resume_path)\n",
        "\n",
        "        print(\"Resume:\", resume_path)\n",
        "\n",
        "        name = extract_name(text)\n",
        "        if name:\n",
        "            print(\"Name:\", name)\n",
        "        else:\n",
        "            print(\"Name not found\")\n",
        "\n",
        "        contact_number = extract_contact_number_from_resume(text)\n",
        "        if contact_number:\n",
        "            print(\"Contact Number:\", contact_number)\n",
        "        else:\n",
        "            print(\"Contact Number not found\")\n",
        "\n",
        "        email = extract_email_from_resume(text)\n",
        "        if email:\n",
        "            print(\"Email:\", email)\n",
        "        else:\n",
        "            print(\"Email not found\")\n",
        "\n",
        "        skills_list = ['Python', 'Data Analysis', 'Machine Learning', 'Communication', 'Project Management', 'Deep Learning', 'SQL', 'Tableau']\n",
        "        extracted_skills = extract_skills_from_resume(text, skills_list)\n",
        "        if extracted_skills:\n",
        "            print(\"Skills:\", extracted_skills)\n",
        "        else:\n",
        "            print(\"No skills found\")\n",
        "\n",
        "        extracted_education = extract_education_from_resume(text)\n",
        "        if extracted_education:\n",
        "            print(\"Education:\", extracted_education)\n",
        "        else:\n",
        "            print(\"No education information found\")\n",
        "\n",
        "        print()\n",
        "\n"
      ],
      "metadata": {
        "colab": {
          "base_uri": "https://localhost:8080/"
        },
        "id": "W21ZalSk4AJg",
        "outputId": "595132ff-dcb1-4466-b525-b6ee571dd69c"
      },
      "execution_count": 7,
      "outputs": [
        {
          "output_type": "stream",
          "name": "stdout",
          "text": [
            "Resume: /content/Aman resume KPIT.pdf\n",
            "Name: Aeronox Technologies\n",
            "Contact Number: 91-8340587383\n",
            "Email: amankumar.prof4@gmail.com\n",
            "Skills: ['Python', 'Data Analysis', 'Project Management']\n",
            "No education information found\n",
            "\n"
          ]
        }
      ]
    }
  ]
}